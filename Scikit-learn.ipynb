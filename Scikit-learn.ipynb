{
 "cells": [
  {
   "cell_type": "markdown",
   "id": "ede7b2d4",
   "metadata": {},
   "source": [
    "# Scikit-learn is one of the most important and indispensable Python frameworks for Data Science and\n",
    "Machine Learning in Python. It implements a wide range of Machine Learning algorithms covering major\n",
    "areas of Machine Learning like classification, clustering, regression, and so on. All the mainstream Machine\n",
    "Learning algorithms like support vector machines, logistic regression, random forests, K-means clustering,\n",
    "hierarchical clustering, and many many more, are implemented efficiently in this library. Perhaps this\n",
    "library forms the foundation of applied and practical Machine Learning. Besides this, its easy-to-use API and\n",
    "code design patterns have been widely adopted across other frameworks too!"
   ]
  },
  {
   "cell_type": "markdown",
   "id": "ff3dfe38",
   "metadata": {},
   "source": [
    "# The Dataset\n",
    "The diabetes dataset is one of the bundled datasets with the scikit-learn library. This small dataset allows\n",
    "the new users of the library to learn and experiment various Machine Learning concepts, with a well-known\n",
    "dataset. It contains observations of 10 baseline variables, age, sex, body mass index, average blood pressure.\n",
    "and six blood serum measurements for 442 diabetes patients. The dataset bundled with the package is\n",
    "already standardized (scaled), i.e. they have zero mean and unit L2 norm. The response (or target variable)\n",
    "is a quantitative measure of disease progression one year after baseline. The dataset can be used to answer\n",
    "two questions:\n",
    "           # • What is the baseline prediction of disease progression for future patients?\n",
    "            • Which independent variables (features) are important factors for predicting disease progression?"
   ]
  },
  {
   "cell_type": "code",
   "execution_count": 1,
   "id": "92c10cf5",
   "metadata": {},
   "outputs": [],
   "source": [
    "from sklearn import datasetssets"
   ]
  },
  {
   "cell_type": "code",
   "execution_count": 2,
   "id": "65a3c669",
   "metadata": {},
   "outputs": [],
   "source": [
    "diabetes = datasets.load_diabetes()\n",
    "y = diabetes.target\n",
    "X = diabetes.data"
   ]
  },
  {
   "cell_type": "code",
   "execution_count": 5,
   "id": "81047360",
   "metadata": {},
   "outputs": [
    {
     "data": {
      "text/plain": [
       "(442, 10)"
      ]
     },
     "execution_count": 5,
     "metadata": {},
     "output_type": "execute_result"
    }
   ],
   "source": [
    "X.shape"
   ]
  },
  {
   "cell_type": "code",
   "execution_count": 6,
   "id": "3bbda9d7",
   "metadata": {},
   "outputs": [
    {
     "data": {
      "text/plain": [
       "array([[ 0.03807591,  0.05068012,  0.06169621,  0.02187235, -0.0442235 ,\n",
       "        -0.03482076, -0.04340085, -0.00259226,  0.01990842, -0.01764613],\n",
       "       [-0.00188202, -0.04464164, -0.05147406, -0.02632783, -0.00844872,\n",
       "        -0.01916334,  0.07441156, -0.03949338, -0.06832974, -0.09220405],\n",
       "       [ 0.08529891,  0.05068012,  0.04445121, -0.00567061, -0.04559945,\n",
       "        -0.03419447, -0.03235593, -0.00259226,  0.00286377, -0.02593034],\n",
       "       [-0.08906294, -0.04464164, -0.01159501, -0.03665645,  0.01219057,\n",
       "         0.02499059, -0.03603757,  0.03430886,  0.02269202, -0.00936191],\n",
       "       [ 0.00538306, -0.04464164, -0.03638469,  0.02187235,  0.00393485,\n",
       "         0.01559614,  0.00814208, -0.00259226, -0.03199144, -0.04664087]])"
      ]
     },
     "execution_count": 6,
     "metadata": {},
     "output_type": "execute_result"
    }
   ],
   "source": [
    "X[:5]"
   ]
  },
  {
   "cell_type": "code",
   "execution_count": 7,
   "id": "66d8de02",
   "metadata": {},
   "outputs": [
    {
     "data": {
      "text/plain": [
       "array([151.,  75., 141., 206., 135.,  97., 138.,  63., 110., 310.])"
      ]
     },
     "execution_count": 7,
     "metadata": {},
     "output_type": "execute_result"
    }
   ],
   "source": [
    "y[:10]"
   ]
  },
  {
   "cell_type": "code",
   "execution_count": 8,
   "id": "0dfe9582",
   "metadata": {},
   "outputs": [],
   "source": [
    "feature_names=['age', 'sex', 'bmi', 'bp','s1', 's2', 's3', 's4', 's5', 's6']"
   ]
  },
  {
   "cell_type": "code",
   "execution_count": 9,
   "id": "0a82620f",
   "metadata": {},
   "outputs": [],
   "source": [
    "from sklearn import datasets\n",
    "from sklearn.linear_model import Lasso\n",
    "import numpy as np\n",
    "from sklearn import linear_model, datasets\n",
    "from sklearn.model_selection import GridSearchCV"
   ]
  },
  {
   "cell_type": "code",
   "execution_count": 10,
   "id": "f4e79c14",
   "metadata": {},
   "outputs": [],
   "source": [
    "diabetes = datasets.load_diabetes()\n",
    "X_train = diabetes.data[:310]\n",
    "y_train = diabetes.target[:310]\n",
    "X_test = diabetes.data[310:]\n",
    "y_test = diabetes.data[310:]"
   ]
  },
  {
   "cell_type": "code",
   "execution_count": 11,
   "id": "3968d578",
   "metadata": {},
   "outputs": [],
   "source": [
    "lasso = Lasso(random_state=0)\n",
    "alphas = np.logspace(-4, -0.5, 30)"
   ]
  },
  {
   "cell_type": "code",
   "execution_count": 12,
   "id": "470e2221",
   "metadata": {},
   "outputs": [
    {
     "data": {
      "text/plain": [
       "GridSearchCV(estimator=Lasso(random_state=0),\n",
       "             param_grid={'alpha': array([1.00000000e-04, 1.32035178e-04, 1.74332882e-04, 2.30180731e-04,\n",
       "       3.03919538e-04, 4.01280703e-04, 5.29831691e-04, 6.99564216e-04,\n",
       "       9.23670857e-04, 1.21957046e-03, 1.61026203e-03, 2.12611233e-03,\n",
       "       2.80721620e-03, 3.70651291e-03, 4.89390092e-03, 6.46167079e-03,\n",
       "       8.53167852e-03, 1.12648169e-02, 1.48735211e-02, 1.96382800e-02,\n",
       "       2.59294380e-02, 3.42359796e-02, 4.52035366e-02, 5.96845700e-02,\n",
       "       7.88046282e-02, 1.04049831e-01, 1.37382380e-01, 1.81393069e-01,\n",
       "       2.39502662e-01, 3.16227766e-01])})"
      ]
     },
     "execution_count": 12,
     "metadata": {},
     "output_type": "execute_result"
    }
   ],
   "source": [
    "estimator = GridSearchCV(lasso, dict(alpha=alphas))\n",
    "estimator.fit(X_train, y_train)"
   ]
  },
  {
   "cell_type": "code",
   "execution_count": 13,
   "id": "97cc6b64",
   "metadata": {},
   "outputs": [
    {
     "data": {
      "text/plain": [
       "0.46170948106181964"
      ]
     },
     "execution_count": 13,
     "metadata": {},
     "output_type": "execute_result"
    }
   ],
   "source": [
    "estimator.best_score_"
   ]
  },
  {
   "cell_type": "code",
   "execution_count": 14,
   "id": "6e3118e1",
   "metadata": {},
   "outputs": [
    {
     "data": {
      "text/plain": [
       "Lasso(alpha=0.07880462815669913, random_state=0)"
      ]
     },
     "execution_count": 14,
     "metadata": {},
     "output_type": "execute_result"
    }
   ],
   "source": [
    "estimator.best_estimator_"
   ]
  },
  {
   "cell_type": "code",
   "execution_count": null,
   "id": "30ef7e3e",
   "metadata": {},
   "outputs": [],
   "source": []
  }
 ],
 "metadata": {
  "kernelspec": {
   "display_name": "Python 3 (ipykernel)",
   "language": "python",
   "name": "python3"
  },
  "language_info": {
   "codemirror_mode": {
    "name": "ipython",
    "version": 3
   },
   "file_extension": ".py",
   "mimetype": "text/x-python",
   "name": "python",
   "nbconvert_exporter": "python",
   "pygments_lexer": "ipython3",
   "version": "3.9.12"
  }
 },
 "nbformat": 4,
 "nbformat_minor": 5
}
