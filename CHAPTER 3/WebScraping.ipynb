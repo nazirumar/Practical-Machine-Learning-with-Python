{
 "cells": [
  {
   "cell_type": "code",
   "execution_count": 28,
   "id": "42cf4c55",
   "metadata": {},
   "outputs": [],
   "source": [
    "import requests\n",
    "import re"
   ]
  },
  {
   "cell_type": "code",
   "execution_count": 33,
   "id": "d671db7c",
   "metadata": {},
   "outputs": [],
   "source": [
    "base_url = \"http://www.apress.com/in/blog/all-blog-posts\"\n",
    "blog_suffix = \"/authors-code-phil-japikse/23462492\""
   ]
  },
  {
   "cell_type": "code",
   "execution_count": 34,
   "id": "3c4dc7ea",
   "metadata": {},
   "outputs": [],
   "source": [
    "re= requests.get(base_url + blog_suffix)"
   ]
  },
  {
   "cell_type": "code",
   "execution_count": 42,
   "id": "8581b72e",
   "metadata": {},
   "outputs": [],
   "source": [
    "content = re.json"
   ]
  },
  {
   "cell_type": "code",
   "execution_count": 43,
   "id": "b5e13d52",
   "metadata": {},
   "outputs": [
    {
     "ename": "AttributeError",
     "evalue": "'Response' object has no attribute 'compile'",
     "output_type": "error",
     "traceback": [
      "\u001b[1;31m---------------------------------------------------------------------------\u001b[0m",
      "\u001b[1;31mAttributeError\u001b[0m                            Traceback (most recent call last)",
      "Input \u001b[1;32mIn [43]\u001b[0m, in \u001b[0;36m<cell line: 1>\u001b[1;34m()\u001b[0m\n\u001b[1;32m----> 1\u001b[0m content_pattern \u001b[38;5;241m=\u001b[39m \u001b[43mre\u001b[49m\u001b[38;5;241;43m.\u001b[39;49m\u001b[43mcompile\u001b[49m(\u001b[38;5;124mr\u001b[39m\u001b[38;5;124m'\u001b[39m\u001b[38;5;124m<div class=\u001b[39m\u001b[38;5;124m\"\u001b[39m\u001b[38;5;124mcms-categorized-list news-list\u001b[39m\u001b[38;5;124m\"\u001b[39m\u001b[38;5;124m>(.*?)</div>\u001b[39m\u001b[38;5;124m'\u001b[39m)\n\u001b[0;32m      2\u001b[0m result \u001b[38;5;241m=\u001b[39m re\u001b[38;5;241m.\u001b[39mfindall(content_pattern, content)\n",
      "\u001b[1;31mAttributeError\u001b[0m: 'Response' object has no attribute 'compile'"
     ]
    }
   ],
   "source": [
    "content_pattern = re.compile(r'<div class=\"cms-categorized-list news-list\">(.*?)</div>')\n",
    "result = re.findall(content_pattern, content)"
   ]
  },
  {
   "cell_type": "code",
   "execution_count": null,
   "id": "b546ba20",
   "metadata": {},
   "outputs": [],
   "source": []
  }
 ],
 "metadata": {
  "kernelspec": {
   "display_name": "Python 3 (ipykernel)",
   "language": "python",
   "name": "python3"
  },
  "language_info": {
   "codemirror_mode": {
    "name": "ipython",
    "version": 3
   },
   "file_extension": ".py",
   "mimetype": "text/x-python",
   "name": "python",
   "nbconvert_exporter": "python",
   "pygments_lexer": "ipython3",
   "version": "3.9.12"
  }
 },
 "nbformat": 4,
 "nbformat_minor": 5
}
