{
 "cells": [
  {
   "cell_type": "code",
   "execution_count": 1,
   "id": "b4530c24",
   "metadata": {},
   "outputs": [],
   "source": [
    "import skimage\n",
    "import numpy as np\n",
    "import pandas as pd\n",
    "from skimage import io\n",
    "import matplotlib.pyplot as plt\n",
    "%matplotlib inline"
   ]
  },
  {
   "cell_type": "markdown",
   "id": "536e1861",
   "metadata": {},
   "source": [
    "Image Metadata Features\n",
    "There are tons of useful features obtainable from the image metadata itself without even processing the\n",
    "image. Most of this information can be found from the EXIF data, which is usually recorded for each image\n",
    "by the device when the picture is being taken. Following are some of the popular features that are obtainable\n",
    "from the image EXIF data.\n",
    "• Image create date and time\n",
    "• Image dimensions\n",
    "• Image compression format\n",
    "• Device make and model\n",
    "• Image resolution and aspect ratio\n",
    "• Image artist\n",
    "• Flash, aperture, focal length, and exposure\n",
    "For more details on what other data points can be used as features from image EXIF metadata,\n",
    "you can refer to https://sno.phy.queensu.ca/~phil/exiftool/TagNames/EXIF.html, which lists the\n",
    "possible EXIF tags."
   ]
  },
  {
   "cell_type": "markdown",
   "id": "a8dca8b9",
   "metadata": {},
   "source": [
    "# Raw Image and Channel Pixels\n",
    "\n",
    "An image can be represented by the value of each of its pixels as a two dimensional array. We can leverage\n",
    "numpy arrays for this. However, color images usually have three components also known as channels. The\n",
    "R, G, and B channels stand for the red, green, and blue channels, respectively. This can be represented as\n",
    "a three dimensional array (m, n, c) where m indicates the number of rows in the image, n indicates the\n",
    "number of columns. These are determined by the image dimensions. The c indicates which channel it\n",
    "represents (R, G or B)."
   ]
  },
  {
   "cell_type": "code",
   "execution_count": null,
   "id": "0c8addbd",
   "metadata": {},
   "outputs": [],
   "source": []
  }
 ],
 "metadata": {
  "kernelspec": {
   "display_name": "Python 3 (ipykernel)",
   "language": "python",
   "name": "python3"
  },
  "language_info": {
   "codemirror_mode": {
    "name": "ipython",
    "version": 3
   },
   "file_extension": ".py",
   "mimetype": "text/x-python",
   "name": "python",
   "nbconvert_exporter": "python",
   "pygments_lexer": "ipython3",
   "version": "3.9.12"
  }
 },
 "nbformat": 4,
 "nbformat_minor": 5
}
