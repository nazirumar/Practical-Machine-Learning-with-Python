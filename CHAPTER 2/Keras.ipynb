{
 "cells": [
  {
   "cell_type": "markdown",
   "id": "10ae70d9",
   "metadata": {},
   "source": [
    "# Keras\n",
    "Keras is a high-level Deep Learning framework for Python, which is capable of running on top of both\n",
    "Theano and Tensorflow. Developed by Francois Chollet, the most important advantage of using Keras is the\n",
    "time saved by its easy-to-use but powerful high level APIs that enable rapid prototyping for an idea. Keras\n",
    "allows us to use the constructs offered by Tensorflow and Theano in a much more intuitive and easy-to-use\n",
    "way without writing excess boilerplate code for building neural network based models. This ease of flexibility\n",
    "and simplicity is the major reason for popularity of keras."
   ]
  },
  {
   "cell_type": "markdown",
   "id": "206b0c08",
   "metadata": {},
   "source": [
    "###### Original author(s) ========  François Chollet\n",
    "Initial release =========== 27 March 2015\n",
    "\n",
    "Stable release============= 2.9.0 / 13 May 2022\n",
    "\n",
    "Repository ================ github.com/keras-team/keras\n",
    "\n",
    "================  Written in Python ================="
   ]
  },
  {
   "cell_type": "markdown",
   "id": "8428a33e",
   "metadata": {},
   "source": [
    "# Installation:\n",
    "Keras is easy to install using the familiar pip or conda command. We will assume that we have both\n",
    "tensorflow and theano installed, as they will be required to be used as backend for keras model\n",
    "development.\n",
    "\n",
    "*pip install keras\n",
    "\n",
    "*conda install keras"
   ]
  },
  {
   "cell_type": "code",
   "execution_count": 1,
   "id": "6fa9f812",
   "metadata": {},
   "outputs": [],
   "source": [
    "# how you import the keras -API\n",
    "import keras"
   ]
  },
  {
   "cell_type": "markdown",
   "id": "8f03b138",
   "metadata": {},
   "source": [
    "# Keras Basics\n",
    "The main abstraction for a neural network is a model in keras. A model is a collection of neurons that will\n",
    "define the structure of a neural network. There are two different types of models:\n",
    "\n",
    "        Sequential model: Sequential models are just stacks of layers. These layers can\n",
    "together define a neural network. If you refer back to Figure 2-6 when we introduced\n",
    "neural networks, that network can be defined by specifying three layers in a sequential\n",
    "keras model. We will see an example of a sequential model later in this section.\n",
    "\n",
    "        Functional API Model: Sequential models are very useful but sometimes our\n",
    "requirement will exceed the constructs possible using sequential models. This is\n",
    "where the function model APIs will come in to the picture. This API allows us to\n",
    "specify complex networks i.e., networks that can have multiple outputs, networks\n",
    "with shared layers, etc. These kinds of models are needed when we need to use\n",
    "advanced neural networks like convolutional neural networks or recurrent neural\n",
    "networks."
   ]
  },
  {
   "cell_type": "markdown",
   "id": "5af67ed4",
   "metadata": {},
   "source": [
    "# Model Building\n",
    "The model building process with keras is a three-step process."
   ]
  },
  {
   "cell_type": "markdown",
   "id": "4749be44",
   "metadata": {},
   "source": [
    "# Optimizer: \n",
    "        We learned in the first chapter that the simplest explanation of a learning\n",
    "        process is the optimization of a loss function. Once we have the model and the loss\n",
    "        function, we can specify the optimizer that will identify the actual optimization\n",
    "        algorithm or program we will use, to train the model and minimize the loss or error.\n",
    "        This could be a string identifier to the already implemented optimizers, a function,\n",
    "        or an object to the Optimizer class that we can implement."
   ]
  },
  {
   "cell_type": "markdown",
   "id": "79d9d8bf",
   "metadata": {},
   "source": [
    "# Loss function: \n",
    "        A loss function, also known as an objective function, will specify the\n",
    "        objective of minimizing loss/error, which our model will leverage to get the best\n",
    "        performance over multiple epochs\\iterations. It again can be a string identifier to\n",
    "        some pre-implemented loss functions like cross-entropy loss (classification) or mean\n",
    "        squared error (regression) or it can be a custom loss function that we can develop."
   ]
  },
  {
   "cell_type": "markdown",
   "id": "a3e9caf3",
   "metadata": {},
   "source": [
    "# Performance metrics: \n",
    "            A metric is a quantifiable measure of the learning process.\n",
    "            While compiling a model, we can specify a performance metric we want to track\n",
    "            (for example, accuracy for a classification model), which will educate us about the\n",
    "            effectiveness of the learning process. This helps in evaluating model performance."
   ]
  },
  {
   "cell_type": "markdown",
   "id": "9583c918",
   "metadata": {},
   "source": [
    "# ============================================================"
   ]
  },
  {
   "cell_type": "markdown",
   "id": "8df6e658",
   "metadata": {},
   "source": [
    "# Fit:\n",
    "    \n",
    "        The last step in the model building process is executing the compiled method to start the training\n",
    "        process. This will execute the lower level compiled code to find out the necessary parameters and weights of\n",
    "        our model during the training process. In keras, like scikit-learn, it is achieved by calling the fit function\n",
    "        on our model. We can control the behavior of the function by supplying appropriate arguments. You can\n",
    "        learn about these arguments at https://keras.io/models/sequential/."
   ]
  },
  {
   "cell_type": "markdown",
   "id": "58229766",
   "metadata": {},
   "source": [
    "# Learning an Example Neural Network\n",
    "We will conclude this section by building a simple working neural network model on one of the datasets that\n",
    "comes bundled with the scikit-learn package. We will use the tensorflow backend in our example, but\n",
    "you can try to use a theano backend and verify the execution of model on both the backends.\n",
    "For our example, we will use the Wisconsin Breast Cancer dataset, which is bundled with the\n",
    "scikit-learn library. The dataset contains attribute drawn from a digitized image of fine needle aspirate\n",
    "of a breast mass. They describe characteristics of the cell nuclei present in the image. On the basis of those\n",
    "attributes, the mass can be marked as malignant or benign. The goal of our classification system is to predict\n",
    "that level. So let’s get started by loading the dataset."
   ]
  },
  {
   "cell_type": "markdown",
   "id": "95ccd413",
   "metadata": {},
   "source": [
    "#### ===================> Wisconsin Breast Cancer dataset <======================================="
   ]
  },
  {
   "cell_type": "code",
   "execution_count": null,
   "id": "ebb7cd78",
   "metadata": {},
   "outputs": [],
   "source": []
  }
 ],
 "metadata": {
  "kernelspec": {
   "display_name": "Python 3 (ipykernel)",
   "language": "python",
   "name": "python3"
  },
  "language_info": {
   "codemirror_mode": {
    "name": "ipython",
    "version": 3
   },
   "file_extension": ".py",
   "mimetype": "text/x-python",
   "name": "python",
   "nbconvert_exporter": "python",
   "pygments_lexer": "ipython3",
   "version": "3.9.12"
  }
 },
 "nbformat": 4,
 "nbformat_minor": 5
}
