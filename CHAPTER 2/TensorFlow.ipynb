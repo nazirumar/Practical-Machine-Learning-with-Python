{
 "cells": [
  {
   "cell_type": "markdown",
   "id": "e348e407",
   "metadata": {},
   "source": [
    "# Tensorflow\n",
    "Tensorflow is an open source software library for Machine Learning released by Google in November 2015.\n",
    "Tensorflow is based on the internal system that Google uses to power its research and production systems."
   ]
  },
  {
   "cell_type": "markdown",
   "id": "d56f09f5",
   "metadata": {},
   "source": [
    "#### Tensorflow is quite similar to Theano and can be considered as Google’s attempt to provide an upgrade to Theano by providing easy-to-use interfaces into Deep Learning, neural networks, and Machine Learning with a strong focus on rapid prototyping and model deployment constructs. \n",
    "Like Theano it also provides\n",
    "constructs for symbolical mathematics, which are then translated into computational graphs. These graphs\n",
    "are then compiled into lower-level code and executed efficiently. Like theano, tensorflow also supports\n",
    "CPUs and GPUs seamlessly. In fact tensorflow works best on a TPU, known as the Tensor Processing Unit,\n",
    "which was invented by Google. In addition to having a Python API, tensorflow is also exposed by APIs to\n",
    "C++, Haskell, Java, and Go languages. One of the major differences tensorflow has as compared to\n",
    "theano is the support for higher-level operations, which ease the process of Machine Learning and\n",
    "its focus on model development as well as deployment to production and model serving via multiple\n",
    "mechanisms (https://www.tensorflow.org/serving/serving_basic). Also the documentation and usage\n",
    "of theano is not so intuitive to use, which is another area tensorflow aims to fill, by its easy-to-understand\n",
    "implementations and extensive documentation.\n",
    "The constructs provided by tensorflow are quite similar to those of Theano so we will not be reiterating\n",
    "those. You can always refer to the documentation provided for tensorflow at https://www.tensorflow.org/\n",
    "for more details."
   ]
  },
  {
   "cell_type": "markdown",
   "id": "42904c11",
   "metadata": {},
   "source": [
    "# Installation:\n",
    "    conda install tensorflow"
   ]
  },
  {
   "cell_type": "markdown",
   "id": "be9967f4",
   "metadata": {},
   "source": [
    "## Once we have installed the library, we can verify a successful install by verifying it in the ipython\n",
    "console with the following commands."
   ]
  },
  {
   "cell_type": "code",
   "execution_count": 5,
   "id": "2ecb3c34",
   "metadata": {},
   "outputs": [],
   "source": [
    "#    am get this error because now am using tensorflow v2\n",
    "#     TF1.x hello world:\n",
    "\n",
    "\n",
    "# links ========================> https://stackoverflow.com/questions/55142951/tensorflow-2-0-attributeerror-module-tensorflow-has-no-attribute-session"
   ]
  },
  {
   "cell_type": "code",
   "execution_count": 1,
   "id": "70face7f",
   "metadata": {},
   "outputs": [
    {
     "ename": "AttributeError",
     "evalue": "module 'tensorflow' has no attribute 'Session'",
     "output_type": "error",
     "traceback": [
      "\u001b[1;31m---------------------------------------------------------------------------\u001b[0m",
      "\u001b[1;31mAttributeError\u001b[0m                            Traceback (most recent call last)",
      "Input \u001b[1;32mIn [1]\u001b[0m, in \u001b[0;36m<cell line: 3>\u001b[1;34m()\u001b[0m\n\u001b[0;32m      1\u001b[0m \u001b[38;5;28;01mimport\u001b[39;00m \u001b[38;5;21;01mtensorflow\u001b[39;00m \u001b[38;5;28;01mas\u001b[39;00m \u001b[38;5;21;01mtf\u001b[39;00m\n\u001b[0;32m      2\u001b[0m hello \u001b[38;5;241m=\u001b[39m tf\u001b[38;5;241m.\u001b[39mconstant(\u001b[38;5;124m'\u001b[39m\u001b[38;5;124mHello Tensorflow!\u001b[39m\u001b[38;5;124m'\u001b[39m)\n\u001b[1;32m----> 3\u001b[0m sess \u001b[38;5;241m=\u001b[39m \u001b[43mtf\u001b[49m\u001b[38;5;241;43m.\u001b[39;49m\u001b[43mSession\u001b[49m()\n\u001b[0;32m      4\u001b[0m \u001b[38;5;28mprint\u001b[39m(sess\u001b[38;5;241m.\u001b[39mrun(hello))\n",
      "\u001b[1;31mAttributeError\u001b[0m: module 'tensorflow' has no attribute 'Session'"
     ]
    }
   ],
   "source": [
    "import tensorflow as tf\n",
    "hello = tf.constant('Hello Tensorflow!')\n",
    "sess = tf.Session()\n",
    "print(sess.run(hello))"
   ]
  },
  {
   "cell_type": "code",
   "execution_count": 6,
   "id": "55b20bdf",
   "metadata": {},
   "outputs": [],
   "source": [
    "# TF2.x hello world:"
   ]
  },
  {
   "cell_type": "code",
   "execution_count": 2,
   "id": "79a98028",
   "metadata": {},
   "outputs": [
    {
     "name": "stdout",
     "output_type": "stream",
     "text": [
      "Hello, TensorFlow!\r\n"
     ]
    }
   ],
   "source": [
    "import tensorflow as tf\n",
    "msg = tf.constant('Hello, TensorFlow!')\n",
    "tf.print(msg)"
   ]
  },
  {
   "cell_type": "markdown",
   "id": "10482f3b",
   "metadata": {},
   "source": [
    "# The message verifies our successful install of the tensorflow library. You are also likely to see a bunch\n",
    "of warning messages but you can safely ignore them. The reason for those messages is the fact that the\n",
    "default tensorflow build is not built with support for some instruction sets, which may slow down the\n",
    "process of learning a bit."
   ]
  },
  {
   "cell_type": "code",
   "execution_count": null,
   "id": "7041229c",
   "metadata": {},
   "outputs": [],
   "source": []
  }
 ],
 "metadata": {
  "kernelspec": {
   "display_name": "Python 3 (ipykernel)",
   "language": "python",
   "name": "python3"
  },
  "language_info": {
   "codemirror_mode": {
    "name": "ipython",
    "version": 3
   },
   "file_extension": ".py",
   "mimetype": "text/x-python",
   "name": "python",
   "nbconvert_exporter": "python",
   "pygments_lexer": "ipython3",
   "version": "3.9.12"
  }
 },
 "nbformat": 4,
 "nbformat_minor": 5
}
